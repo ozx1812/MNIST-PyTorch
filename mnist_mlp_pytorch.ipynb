#this is notebook for classification of MNIST data using multi layer perceptron.
